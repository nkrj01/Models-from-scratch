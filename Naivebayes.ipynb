{
  "nbformat": 4,
  "nbformat_minor": 0,
  "metadata": {
    "colab": {
      "provenance": [],
      "authorship_tag": "ABX9TyOpev3phW3AV3PWybj8C78j",
      "include_colab_link": true
    },
    "kernelspec": {
      "name": "python3",
      "display_name": "Python 3"
    },
    "language_info": {
      "name": "python"
    }
  },
  "cells": [
    {
      "cell_type": "markdown",
      "metadata": {
        "id": "view-in-github",
        "colab_type": "text"
      },
      "source": [
        "<a href=\"https://colab.research.google.com/github/nkrj01/Models-from-scratch/blob/main/Naivebayes.ipynb\" target=\"_parent\"><img src=\"https://colab.research.google.com/assets/colab-badge.svg\" alt=\"Open In Colab\"/></a>"
      ]
    },
    {
      "cell_type": "markdown",
      "source": [
        "Importing Dependencies"
      ],
      "metadata": {
        "id": "JW23fnZ93-oS"
      }
    },
    {
      "cell_type": "code",
      "execution_count": 18,
      "metadata": {
        "id": "2jbPUL4PV5Iv"
      },
      "outputs": [],
      "source": [
        "import numpy as np\n",
        "from sklearn.datasets import load_breast_cancer\n",
        "import matplotlib.pyplot as plt\n",
        "from scipy.stats import norm as gaussian\n",
        "from sklearn.model_selection import train_test_split"
      ]
    },
    {
      "cell_type": "markdown",
      "source": [
        "Loading example data"
      ],
      "metadata": {
        "id": "nZpqL4_v4FHp"
      }
    },
    {
      "cell_type": "code",
      "source": [
        "data_obj = load_breast_cancer()\n",
        "X = data_obj[\"data\"]\n",
        "y = data_obj[\"target\"].reshape(-1, 1)\n",
        "data = np.hstack((X, y))\n",
        "print(data.shape)"
      ],
      "metadata": {
        "colab": {
          "base_uri": "https://localhost:8080/"
        },
        "id": "8GNz0BvrWc0q",
        "outputId": "bf58214c-019b-488e-87ca-64eafa0d5643"
      },
      "execution_count": 19,
      "outputs": [
        {
          "output_type": "stream",
          "name": "stdout",
          "text": [
            "(569, 31)\n"
          ]
        }
      ]
    },
    {
      "cell_type": "markdown",
      "source": [
        "Creating Naive Bayes estimator class"
      ],
      "metadata": {
        "id": "BENZfQx34H3j"
      }
    },
    {
      "cell_type": "code",
      "source": [
        "class naiveBayes:\n",
        "\n",
        "  def __init__(self) -> None:\n",
        "    pass\n",
        "\n",
        "  def fit(self, data):\n",
        "    \"\"\"\n",
        "    Given the train data, this function fits the model and returns\n",
        "    relevant parameters of the model\n",
        "    \"\"\"\n",
        "    X = data[:, :-1]\n",
        "    y = data[:, -1]\n",
        "    labels = np.unique(y)\n",
        "    X_class = {}\n",
        "\n",
        "    for label in labels:\n",
        "      index = np.where(y == label)\n",
        "      X_class[label] = X[index]\n",
        "\n",
        "    mean = {}\n",
        "    std = {}\n",
        "    prior = {}\n",
        "    for label in labels:\n",
        "      mean[label] = np.mean(X_class[label], axis=0)\n",
        "      std[label] = np.std(X_class[label], axis=0)\n",
        "      prior[label] = np.count_nonzero(y == label)/len(y)\n",
        "\n",
        "    self.parameters = {\n",
        "        \"mean\" : mean,\n",
        "        \"std\" : std,\n",
        "        'prior' : prior,\n",
        "        'labels': labels\n",
        "    }\n",
        "\n",
        "    return self.parameters\n",
        "\n",
        "  def predict(self, x):\n",
        "    \"\"\"\n",
        "    After fitting the model, this function can be called to predict\n",
        "    new test data.\n",
        "    \"\"\"\n",
        "    posteriors = {}\n",
        "    labels = self.parameters[\"labels\"]\n",
        "    for label in labels:\n",
        "      p = 0\n",
        "      for col in range(len(x)):\n",
        "        mean = self.parameters[\"mean\"][label][col]\n",
        "        std = self.parameters[\"std\"][label][col]\n",
        "        gauss = gaussian(mean, std)\n",
        "        likelihood = gauss.pdf(x[col])\n",
        "        if likelihood == 0:\n",
        "          likelihood = 1e-15 # to prevent underflow\n",
        "        p = p + np.log(likelihood) # adding all log likelihood\n",
        "\n",
        "      posteriors[label] = p + np.log(self.parameters[\"prior\"][label]) # adding prior\n",
        "\n",
        "    posterior = -1e15\n",
        "    for key in posteriors.keys():\n",
        "      if (posteriors[key] > posterior):\n",
        "        posterior = posteriors[key]\n",
        "        answer = key\n",
        "    return answer\n",
        "\n",
        "  def accuracy(self, x_test, y_test):\n",
        "    \"\"\"\n",
        "    This function calculation binary accuracy of the test set.\n",
        "    \"\"\"\n",
        "    y_predict = []\n",
        "    for row in range(x_test.shape[0]):\n",
        "      y_predict.append(self.predict(x_test[row, :]))\n",
        "\n",
        "    y_test = y_test.flatten()\n",
        "    y_predict = np.array(y_predict)\n",
        "    matching_elements = (y_predict == y_test)\n",
        "    count_matches = np.sum(matching_elements)\n",
        "    accuracy = count_matches/x_test.shape[0]\n",
        "    return accuracy"
      ],
      "metadata": {
        "id": "99lyc5YBvZaf"
      },
      "execution_count": 37,
      "outputs": []
    },
    {
      "cell_type": "markdown",
      "source": [
        "Testing model's performance"
      ],
      "metadata": {
        "id": "2EXRW5wT4NpP"
      }
    },
    {
      "cell_type": "code",
      "source": [
        "x_train, x_test, y_train, y_test = train_test_split(X, y, test_size=0.2, stratify=y, random_state=42)\n",
        "data_train = np.hstack((x_train, y_train.reshape(-1, 1)))\n",
        "nb = naiveBayes()\n",
        "nb.fit(data_train)\n",
        "y_predict = nb.predict(x_test[0, :])\n",
        "print(y_predict)\n",
        "print(nb.accuracy(x_test, y_test))"
      ],
      "metadata": {
        "colab": {
          "base_uri": "https://localhost:8080/"
        },
        "id": "R_k8WyrqxFTZ",
        "outputId": "991a25f3-b926-462a-c208-44b6b267b906"
      },
      "execution_count": 39,
      "outputs": [
        {
          "output_type": "stream",
          "name": "stdout",
          "text": [
            "0.0\n",
            "0.9298245614035088\n"
          ]
        }
      ]
    }
  ]
}