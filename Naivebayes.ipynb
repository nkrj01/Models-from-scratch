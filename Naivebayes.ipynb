{
  "nbformat": 4,
  "nbformat_minor": 0,
  "metadata": {
    "colab": {
      "provenance": [],
      "authorship_tag": "ABX9TyOMZMuoLALHrdMTxU8mAK0z",
      "include_colab_link": true
    },
    "kernelspec": {
      "name": "python3",
      "display_name": "Python 3"
    },
    "language_info": {
      "name": "python"
    }
  },
  "cells": [
    {
      "cell_type": "markdown",
      "metadata": {
        "id": "view-in-github",
        "colab_type": "text"
      },
      "source": [
        "<a href=\"https://colab.research.google.com/github/nkrj01/Models-from-scratch/blob/main/Naivebayes.ipynb\" target=\"_parent\"><img src=\"https://colab.research.google.com/assets/colab-badge.svg\" alt=\"Open In Colab\"/></a>"
      ]
    },
    {
      "cell_type": "code",
      "execution_count": 1,
      "metadata": {
        "id": "2jbPUL4PV5Iv"
      },
      "outputs": [],
      "source": [
        "import numpy as np\n",
        "from sklearn.datasets import load_breast_cancer\n",
        "data_obj = load_breast_cancer()\n",
        "import matplotlib.pyplot as plt\n",
        "from scipy.stats import norm as gaussian"
      ]
    },
    {
      "cell_type": "code",
      "source": [
        "X = data_obj[\"data\"]\n",
        "y = data_obj[\"target\"].reshape(-1, 1)\n",
        "data = np.hstack((X, y))\n",
        "print(data.shape)"
      ],
      "metadata": {
        "colab": {
          "base_uri": "https://localhost:8080/"
        },
        "id": "8GNz0BvrWc0q",
        "outputId": "3f565ffa-9dfe-4469-e840-41db3dff3ffc"
      },
      "execution_count": 2,
      "outputs": [
        {
          "output_type": "stream",
          "name": "stdout",
          "text": [
            "(569, 31)\n"
          ]
        }
      ]
    },
    {
      "cell_type": "code",
      "source": [
        "def getParameters(data):\n",
        "  X = data[:, :-1]\n",
        "  y = data[:, -1]\n",
        "  labels = np.unique(y)\n",
        "  X_class = {}\n",
        "\n",
        "  for label in labels:\n",
        "    index = np.where(y == label)\n",
        "    X_class[label] = X[index]\n",
        "\n",
        "  mean = {}\n",
        "  std = {}\n",
        "  prior = {}\n",
        "  for label in labels:\n",
        "    mean[label] = np.mean(X_class[label], axis=0)\n",
        "    std[label] = np.std(X_class[label], axis=0)\n",
        "    prior[label] = np.count_nonzero(y == label)/len(y)\n",
        "\n",
        "  parameters = {\n",
        "      \"mean\" : mean,\n",
        "      \"std\" : std,\n",
        "      'prior' : prior,\n",
        "      'labels': labels\n",
        "  }\n",
        "\n",
        "  return parameters\n",
        "\n",
        "\n",
        "def predict(x, parameter):\n",
        "  posteriors = {}\n",
        "  labels = parameter[\"labels\"]\n",
        "  for label in labels:\n",
        "    p = 0\n",
        "    for col in range(len(x)):\n",
        "      mean = parameter[\"mean\"][label][col]\n",
        "      std = parameter[\"std\"][label][col]\n",
        "      gauss = gaussian(mean, std)\n",
        "      likelihood = gauss.pdf(x[col])\n",
        "      if likelihood == 0:\n",
        "        likelihood = 1e-15 # to prevent underflow\n",
        "      p = p + np.log(likelihood) # adding all log likelihood\n",
        "\n",
        "    posteriors[label] = p + np.log(parameter[\"prior\"][label]) # adding prior\n",
        "\n",
        "  posterior = -1e15\n",
        "  for key in posteriors.keys():\n",
        "    if (posteriors[key] > posterior):\n",
        "      posterior = posteriors[key]\n",
        "      answer = key\n",
        "  return answer"
      ],
      "metadata": {
        "id": "BPzjpxeUWpqH"
      },
      "execution_count": 3,
      "outputs": []
    },
    {
      "cell_type": "code",
      "source": [
        "parameter = getParameters(data)\n",
        "m = X.shape[0]\n",
        "y_predict = []\n",
        "for row in range(m):\n",
        "  x = X[row, :]\n",
        "  y_predict.append(predict(x, parameter))"
      ],
      "metadata": {
        "id": "-zXlJjRMRzN_"
      },
      "execution_count": 4,
      "outputs": []
    },
    {
      "cell_type": "code",
      "source": [
        "y_predict = np.array(y_predict)\n",
        "y = y.flatten()\n",
        "matching_elements = (y_predict == y)\n",
        "count_matches = np.sum(matching_elements)\n",
        "accuracy = count_matches/X.shape[0]\n",
        "print(accuracy)"
      ],
      "metadata": {
        "colab": {
          "base_uri": "https://localhost:8080/"
        },
        "id": "I5-ubaR2C6M4",
        "outputId": "4cf743eb-275b-4f15-feb3-1933396428cc"
      },
      "execution_count": 5,
      "outputs": [
        {
          "output_type": "stream",
          "name": "stdout",
          "text": [
            "0.9402460456942003\n"
          ]
        }
      ]
    }
  ]
}