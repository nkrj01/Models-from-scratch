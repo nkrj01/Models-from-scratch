{
  "nbformat": 4,
  "nbformat_minor": 0,
  "metadata": {
    "colab": {
      "provenance": [],
      "mount_file_id": "1HZHZx7EGGiAmoKT32lOLI-KvilhsHW9H",
      "authorship_tag": "ABX9TyMF4WkN9JzTtjEbMSkPL++d",
      "include_colab_link": true
    },
    "kernelspec": {
      "name": "python3",
      "display_name": "Python 3"
    },
    "language_info": {
      "name": "python"
    }
  },
  "cells": [
    {
      "cell_type": "markdown",
      "metadata": {
        "id": "view-in-github",
        "colab_type": "text"
      },
      "source": [
        "<a href=\"https://colab.research.google.com/github/nkrj01/Models-from-scratch/blob/main/decision_tree_scratch.ipynb\" target=\"_parent\"><img src=\"https://colab.research.google.com/assets/colab-badge.svg\" alt=\"Open In Colab\"/></a>"
      ]
    },
    {
      "cell_type": "code",
      "execution_count": 1,
      "metadata": {
        "id": "O0eMPtbGG8Z3"
      },
      "outputs": [],
      "source": [
        "import numpy as np\n",
        "import pandas as pd\n",
        "from sklearn.datasets import load_iris"
      ]
    },
    {
      "cell_type": "markdown",
      "source": [
        "## **Helper Functions**"
      ],
      "metadata": {
        "id": "Q5sZsdT0Hgp2"
      }
    },
    {
      "cell_type": "code",
      "source": [
        "def checkPurity(data):\n",
        "    \"\"\"\n",
        "    Args: np array\n",
        "    returns: bool\n",
        "\n",
        "    Checks whether y-data is pure or not\n",
        "    \"\"\"\n",
        "    y = data[:, -1]\n",
        "    unique = np.unique(y)\n",
        "    if len(unique) == 1:\n",
        "        return True\n",
        "    else:\n",
        "        return False\n",
        "\n",
        "\n",
        "def classify(data):\n",
        "    \"\"\"\n",
        "    Args: np array\n",
        "    Return: int\n",
        "\n",
        "    Classifies the data in a leaf node by calculating the max\n",
        "    number of class in the leaf node data\n",
        "    \"\"\"\n",
        "    y = data[:, -1]\n",
        "    unique_classes, unique_classes_count = np.unique(y, return_counts=True)\n",
        "    index = unique_classes_count.argmax()\n",
        "    classification = unique_classes[index]\n",
        "    return int(classification)\n",
        "\n",
        "\n",
        "def getPotentialSplits(data):\n",
        "    \"\"\"\n",
        "    Args: np array\n",
        "    Returns: dictionary\n",
        "\n",
        "    returns a dictionary where keys are column index\n",
        "    and the values are the potential split values\n",
        "    \"\"\"\n",
        "\n",
        "    potential_splits = {}\n",
        "    m = data.shape[1] - 1 # number of features\n",
        "\n",
        "    for col_index in range(m):\n",
        "        potential_splits[col_index] = []\n",
        "        values = data[:, col_index]\n",
        "        unique_values = np.unique(values)\n",
        "\n",
        "        for j in range(len(unique_values)):\n",
        "            if j != 0:\n",
        "                previous_value = unique_values[j - 1]\n",
        "                current_value = unique_values[j]\n",
        "                split = (previous_value + current_value) / 2\n",
        "                potential_splits[col_index].append(split)\n",
        "    return potential_splits\n",
        "\n",
        "\n",
        "def splitData(data, split_column, split_value):\n",
        "    \"\"\"\n",
        "    Args: np array, int, float\n",
        "    Returns: np array, np array\n",
        "\n",
        "    given a numpy array data, split column, and a split values,\n",
        "    this function splits the function in two parts and returns\n",
        "    both the np array\n",
        "\n",
        "    \"\"\"\n",
        "    bool_index_below = data[:, split_column] <= split_value\n",
        "    data_below = data[bool_index_below, :]\n",
        "    bool_index_above = data[:, split_column] > split_value\n",
        "    data_above = data[bool_index_above, :]\n",
        "    return data_below, data_above\n",
        "\n",
        "\n",
        "def getEntropy(data):\n",
        "    \"\"\"\n",
        "    Args: np array\n",
        "    Returns: float\n",
        "\n",
        "    Using y-values of the data, returns the entropy of a given data\n",
        "    \"\"\"\n",
        "    _, counts = np.unique(data[:, -1], return_counts=True)\n",
        "    probability = counts / counts.sum()\n",
        "    entropy = sum(probability * -np.log2(probability))\n",
        "    return entropy\n",
        "\n",
        "\n",
        "def getTotalEntropy(data_below, data_above):\n",
        "    \"\"\"\n",
        "    Args: np array, np array\n",
        "    Returns: float\n",
        "\n",
        "    Using y-values of the data duo after the split, returns the total entropy\n",
        "    \"\"\"\n",
        "    count_below = data_below.shape[0]\n",
        "    count_above = data_above.shape[0]\n",
        "    p_below = count_below / (count_above + count_below)\n",
        "    p_above = count_above / (count_above + count_below)\n",
        "    total_entropy = p_below * getEntropy(data_below) + p_above * getEntropy(data_above)\n",
        "    return total_entropy\n",
        "\n",
        "\n",
        "def getBestSplit(data, potential_splits):\n",
        "    \"\"\"\n",
        "    Args: np array, dictionary\n",
        "    Returns: int, float\n",
        "\n",
        "    Given a data, this function returns the best column and the best split\n",
        "    value of that column that will lead to minimum entropy of split data\n",
        "    \"\"\"\n",
        "    total_entropy = 999\n",
        "    for col_index in potential_splits:\n",
        "        for value in potential_splits[col_index]:\n",
        "            data_below, data_above = splitData(data, col_index, value)\n",
        "            current_total_entropy = getTotalEntropy(data_below, data_above)\n",
        "\n",
        "            if current_total_entropy <= total_entropy:\n",
        "                total_entropy = current_total_entropy\n",
        "                best_split_column = col_index\n",
        "                best_split_value = value\n",
        "\n",
        "    return best_split_column, best_split_value\n"
      ],
      "metadata": {
        "id": "K-oUebc_HjVj"
      },
      "execution_count": 9,
      "outputs": []
    },
    {
      "cell_type": "markdown",
      "source": [
        "## **Data Import**"
      ],
      "metadata": {
        "id": "kN12lAM-76wX"
      }
    },
    {
      "cell_type": "code",
      "source": [
        "iris = load_iris()\n",
        "X, y = iris.data, iris.target.reshape(-1, 1)\n",
        "data = np.hstack((X, y))"
      ],
      "metadata": {
        "id": "BhX9LpauJXXH"
      },
      "execution_count": 3,
      "outputs": []
    },
    {
      "cell_type": "markdown",
      "source": [
        "# **Decision Tree Algorithm**"
      ],
      "metadata": {
        "id": "VQ53Jenu8Cn-"
      }
    },
    {
      "cell_type": "code",
      "source": [
        "def decision_tree(data):\n",
        "  # exit condition\n",
        "  if checkPurity(data):\n",
        "    classfication = classify(data)\n",
        "    return classfication\n",
        "\n",
        "  potential_splits = getPotentialSplits(data)\n",
        "  split_column, split_value = getBestSplit(data, potential_splits) # get the best split\n",
        "  data_below, data_above = splitData(data, split_column, split_value) # split at the best split\n",
        "\n",
        "  # recursion\n",
        "  sub_tree = {f\"feature #{split_column}, value<{split_value}\":[decision_tree(data_below), decision_tree(data_above)]}\n",
        "\n",
        "  return sub_tree\n"
      ],
      "metadata": {
        "id": "HQ8QWvvbJfpj"
      },
      "execution_count": 12,
      "outputs": []
    },
    {
      "cell_type": "code",
      "source": [
        "tree = decision_tree(data)\n",
        "print(tree)"
      ],
      "metadata": {
        "id": "2kDA1c2YJlhu",
        "colab": {
          "base_uri": "https://localhost:8080/"
        },
        "outputId": "e12b18a8-e69e-43ca-fc14-3d312e036bb1"
      },
      "execution_count": 13,
      "outputs": [
        {
          "output_type": "stream",
          "name": "stdout",
          "text": [
            "{'feature #3, value<0.8': [0, {'feature #3, value<1.75': [{'feature #2, value<4.95': [{'feature #3, value<1.65': [1, 2]}, {'feature #3, value<1.55': [2, {'feature #2, value<5.449999999999999': [1, 2]}]}]}, {'feature #2, value<4.85': [{'feature #1, value<3.1': [2, 1]}, 2]}]}]}\n"
          ]
        }
      ]
    }
  ]
}