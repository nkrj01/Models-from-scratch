{
  "nbformat": 4,
  "nbformat_minor": 0,
  "metadata": {
    "colab": {
      "provenance": [],
      "mount_file_id": "1h4lkrMLAslM97zfGi17H5wV5IHwQM9xq",
      "authorship_tag": "ABX9TyNqrpchFt055FPc4TGetO6i",
      "include_colab_link": true
    },
    "kernelspec": {
      "name": "python3",
      "display_name": "Python 3"
    },
    "language_info": {
      "name": "python"
    }
  },
  "cells": [
    {
      "cell_type": "markdown",
      "metadata": {
        "id": "view-in-github",
        "colab_type": "text"
      },
      "source": [
        "<a href=\"https://colab.research.google.com/github/nkrj01/Models-from-scratch/blob/main/Neural_network_scratch.ipynb\" target=\"_parent\"><img src=\"https://colab.research.google.com/assets/colab-badge.svg\" alt=\"Open In Colab\"/></a>"
      ]
    },
    {
      "cell_type": "markdown",
      "source": [
        "# **Introduction**\n",
        "In this notebook, I've implemented a dense neural network from scratch for binary classification problem using the Autodiff algorithm. The algorithm is presented twice: the first version is hard-coded but offers a simpler understanding for someone learning how to implement backpropagation. The second version is more flexible, allowing users to easily adjust the number of hidden layers and nodes in each layer. This flexibility enhances customization while maintaining readability.\n",
        "\n",
        "The model was succesfully able to classify the breast cancer data from Sk-learn with ~97% accuracy\n",
        "\n",
        "Finally, the NN computed manually was compared with NN computed using Tensorflows Gradient tape. Both models performed almost identically for the given dataset (see results)"
      ],
      "metadata": {
        "id": "4Sfq2vN_uSv_"
      }
    },
    {
      "cell_type": "code",
      "execution_count": null,
      "metadata": {
        "id": "7Ohx0BlLL55l"
      },
      "outputs": [],
      "source": [
        "import numpy as np\n",
        "import matplotlib.pyplot as plt"
      ]
    },
    {
      "cell_type": "markdown",
      "source": [
        "## **Helper Functions**"
      ],
      "metadata": {
        "id": "yvvIlSgbM7EN"
      }
    },
    {
      "cell_type": "code",
      "source": [
        "def sigma(z):\n",
        "  # activation function\n",
        "  a = 1/(1 + np.exp(-z))\n",
        "  return a\n",
        "\n",
        "def make_binary(a):\n",
        "  # converting activation to binaries for final result\n",
        "  if a >= 0.5:\n",
        "    return 1\n",
        "  else:\n",
        "    return 0\n",
        "\n",
        "def binary_entropy_loss(y_true, y):\n",
        "  epsilon = 1e-15\n",
        "  y = np.clip(y, epsilon, 1 - epsilon)\n",
        "  loss = -(y_true*np.log(y) + (1-y_true)*np.log(1-y))\n",
        "  return loss\n",
        "\n",
        "def predict(x_test):\n",
        "  # prediction using forward propagation\n",
        "  a1 = x_test.reshape(-1, 1)\n",
        "  z2 = np.matmul(W1, a1) + b1\n",
        "  a2 = sigma(z2)\n",
        "  z3 = np.matmul(W2, a2) + b2\n",
        "  a3 = sigma(z3)\n",
        "  z4 = np.matmul(W3, a3) + b3\n",
        "  a4 = sigma(z4)\n",
        "  y = make_binary(a4)\n",
        "  return y\n",
        "\n",
        "def accuracy(x_test, y_test):\n",
        "  # Calculating binary accuracy of the model\n",
        "  y_predict = []\n",
        "  for row in x_test:\n",
        "    y_predict.append(predict(row))\n",
        "\n",
        "  y_predict = np.array(y_predict)\n",
        "  matching_elements = (y_predict == y_test)\n",
        "  count_matches = np.sum(matching_elements)\n",
        "  accuracy = count_matches/x_test.shape[0]\n",
        "  return accuracy\n",
        "\n",
        "def predict_2(x_test):\n",
        "  # prediction using forward propagation for 2nd version\n",
        "  a = []\n",
        "  z = []\n",
        "  a.append(x_test.reshape(-1, 1))\n",
        "  for i in range(n_total_layer-1):\n",
        "    z.append(np.matmul(W[i], a[i]) + b[i])\n",
        "\n",
        "    if i < n_total_layer-1:\n",
        "      a.append(sigma(z[i]))\n",
        "\n",
        "  y = make_binary(a[-1])\n",
        "  return y\n",
        "\n",
        "def accuracy_2(x_test, y_test):\n",
        "  # Calculating binary accuracy of the model for 2nd version\n",
        "  y_predict = []\n",
        "  for row in x_test:\n",
        "    y_predict.append(predict_2(row))\n",
        "\n",
        "  y_predict = np.array(y_predict)\n",
        "  matching_elements = (y_predict == y_test)\n",
        "  count_matches = np.sum(matching_elements)\n",
        "  accuracy = count_matches/x_test.shape[0]\n",
        "  return accuracy\n",
        "\n",
        "def accuracy_tf(y_predict, y_test):\n",
        "  matching_elements = (y_predict == y_test)\n",
        "  count_matches = np.sum(matching_elements)\n",
        "  accuracy = count_matches/y_predict.shape[0]\n",
        "  return accuracy"
      ],
      "metadata": {
        "id": "bvHiN_DBMzDU"
      },
      "execution_count": null,
      "outputs": []
    },
    {
      "cell_type": "markdown",
      "source": [
        "## **Load breast cancer classfication Data**"
      ],
      "metadata": {
        "id": "tXzfJKuCuBvS"
      }
    },
    {
      "cell_type": "code",
      "source": [
        "from sklearn.datasets import load_breast_cancer\n",
        "from sklearn.preprocessing import MinMaxScaler\n",
        "from sklearn.model_selection import train_test_split\n",
        "\n",
        "x_total, y_total = load_breast_cancer(return_X_y=True)\n",
        "print(x_total.shape)\n",
        "scaler = MinMaxScaler()\n",
        "x_total = scaler.fit_transform(x_total)\n",
        "x, x_test, y_true, y_test = train_test_split(x_total, y_total, test_size=0.2, random_state=42)"
      ],
      "metadata": {
        "id": "pj6w0T3FQBeU",
        "colab": {
          "base_uri": "https://localhost:8080/"
        },
        "outputId": "5618caab-8171-4414-de28-0481e0136bf3"
      },
      "execution_count": null,
      "outputs": [
        {
          "output_type": "stream",
          "name": "stdout",
          "text": [
            "(569, 30)\n"
          ]
        }
      ]
    },
    {
      "cell_type": "markdown",
      "source": [
        "## **Algorithm-first version**\n"
      ],
      "metadata": {
        "id": "q--Hsvo_T-1W"
      }
    },
    {
      "cell_type": "code",
      "source": [
        "# Define neural network\n",
        "n_hidden_layer = 2\n",
        "n_input_layer = x.shape[1]\n",
        "n_layer_2 = 8\n",
        "n_layer_3 = 4\n",
        "n_output_layer = 1\n",
        "\n",
        "# initiate weights\n",
        "W1_shape = (n_layer_2, n_input_layer)\n",
        "W1 = np.random.uniform(-1, 1, W1_shape)\n",
        "b1_shape = (n_layer_2, 1)\n",
        "b1 = np.random.uniform(-1, 1, b1_shape)\n",
        "W2_shape = (n_layer_3, n_layer_2)\n",
        "W2 = np.random.uniform(-1, 1, W2_shape)\n",
        "b2_shape = (n_layer_3, 1)\n",
        "b2 = np.random.rand(*b2_shape)\n",
        "W3_shape = (n_output_layer, n_layer_3)\n",
        "W3 = np.random.uniform(-1, 1, W3_shape)\n",
        "b3_shape = (n_output_layer, 1)\n",
        "b3 = np.random.rand(*b3_shape)\n",
        "\n",
        "alpha = 0.1 # learning rate\n",
        "n_iteration = 100\n",
        "epsilon = 1e-2\n",
        "m = x.shape[0] # number of training examples\n",
        "avg_loss_list = []\n",
        "iteration_num_list = []\n",
        "current_average_loss = 69\n",
        "\n",
        "for iteration in range(n_iteration):\n",
        "  total_loss = 0\n",
        "  for row in range(m):\n",
        "\n",
        "    # forward propagation\n",
        "    a1 = x[row, :].reshape(-1, 1)\n",
        "    z2 = np.matmul(W1, a1) + b1\n",
        "    a2 = sigma(z2)\n",
        "    z3 = np.matmul(W2, a2) + b2\n",
        "    a3 = sigma(z3)\n",
        "    z4 = np.matmul(W3, a3) + b3\n",
        "    y = sigma(z4) # y = a4\n",
        "    loss = binary_entropy_loss(y_true[row], y).item()\n",
        "    total_loss = total_loss + loss\n",
        "\n",
        "    # back propagation\n",
        "    Dz4 = y - y_true[row]\n",
        "    Db3 = Dz4\n",
        "    DW3 = np.matmul(Dz4, a3.T)\n",
        "    Da3 = np.matmul(W3.T, Dz4)\n",
        "    Dz3 = Da3*a3*(1-a3) # element wise multiplication\n",
        "    Db2 = Dz3\n",
        "    DW2 = np.matmul(Dz3, a2.T)\n",
        "    Da2 = np.matmul(W2.T, Dz3)\n",
        "    Dz2 = Da2*a2*(1-a2) # element wise multiplication\n",
        "    Db1 = Dz2\n",
        "    DW1 = np.matmul(Dz2, a1.T)\n",
        "\n",
        "    # update\n",
        "    W1 = W1 - alpha*DW1\n",
        "    b1 = b1 - alpha*Db1\n",
        "    W2 = W2 - alpha*DW2\n",
        "    b2 = b2 - alpha*Db2\n",
        "    W3 = W3 - alpha*DW3\n",
        "    b3 = b3 - alpha*Db3\n",
        "\n",
        "  avg_loss = total_loss/m\n",
        "  avg_loss_list.append(avg_loss)\n",
        "  iteration_num_list.append(iteration)\n",
        "  if abs(current_average_loss - avg_loss)/avg_loss < epsilon:\n",
        "    break\n",
        "  else:\n",
        "    current_average_loss = avg_loss\n",
        "\n",
        "# plot avg loss vs iteration\n",
        "plt.scatter(iteration_num_list, avg_loss_list)\n",
        "\n",
        "# test accuracy\n",
        "accuracy(x_test, y_test)"
      ],
      "metadata": {
        "id": "efXA96mWVQC4"
      },
      "execution_count": null,
      "outputs": []
    },
    {
      "cell_type": "markdown",
      "source": [
        "## **Algorithm-second version**"
      ],
      "metadata": {
        "id": "ocxBWqtMt7RZ"
      }
    },
    {
      "cell_type": "code",
      "source": [
        "# user define\n",
        "# neural network architecture\n",
        "n_hidden_layer = 2\n",
        "n_input_layer = x.shape[1]\n",
        "n_layer_2 = 6\n",
        "n_layer_3 = 4\n",
        "# n_layer_4 = 2 # Example of how to add more layers\n",
        "n_output_layer = 1\n",
        "n_total_layer = n_hidden_layer + 2\n",
        "\n",
        "# update the list below with appropriate numbers of hidden layers as defined above\n",
        "n_neuron = [n_input_layer, n_layer_2, n_layer_3, n_output_layer]\n",
        "\n",
        "# initiate weights\n",
        "W = []\n",
        "b = []\n",
        "for i in range(n_total_layer-1):\n",
        "  W.append(np.random.uniform(-1, 1, (n_neuron[i+1], n_neuron[i])))\n",
        "  b.append(np.random.uniform(-1, 1, (n_neuron[i+1], 1)))\n",
        "\n",
        "\n",
        "alpha = 0.1 # learning rate\n",
        "n_iteration = 100\n",
        "epsilon = 1e-2\n",
        "m = x.shape[0] # number of training examples\n",
        "avg_loss_list = []\n",
        "iteration_num_list = []\n",
        "current_average_loss = 99\n",
        "\n",
        "for iteration in range(n_iteration):\n",
        "  total_loss = 0\n",
        "  for row in range(m):\n",
        "    # forward propagation\n",
        "    a = []\n",
        "    z = []\n",
        "    a.append(x[row, :].reshape(-1, 1))\n",
        "    for i in range(n_total_layer-1):\n",
        "      z.append(np.matmul(W[i], a[i]) + b[i])\n",
        "\n",
        "      if i < n_total_layer-1:\n",
        "        a.append(sigma(z[i]))\n",
        "\n",
        "    loss = binary_entropy_loss(y_true[row], a[i+1]).item()\n",
        "    total_loss = total_loss + loss\n",
        "\n",
        "    # back propagation\n",
        "    Dz = []\n",
        "    DW = []\n",
        "    Db = []\n",
        "    Da = []\n",
        "    Dz.insert(0, a[-1] - y_true[row])\n",
        "    for i in range(n_total_layer-2, -1, -1):\n",
        "      Db.insert(0, Dz[0])\n",
        "      DW.insert(0, np.matmul(Dz[0], a[i].T))\n",
        "      Da.insert(0, np.matmul(W[i].T, Dz[0]))\n",
        "      if i>0:\n",
        "        Dz.insert(0, Da[0]*a[i]*(1-a[i]))\n",
        "\n",
        "    # update\n",
        "    for i in range(n_total_layer-1):\n",
        "      W[i] = W[i]-alpha*DW[i]\n",
        "      b[i] = b[i]-alpha*Db[i]\n",
        "\n",
        "  # storing avg loss and applying stopping condition\n",
        "  avg_loss = total_loss/m\n",
        "  avg_loss_list.append(avg_loss)\n",
        "  iteration_num_list.append(iteration)\n",
        "  if abs(current_average_loss - avg_loss)/avg_loss < epsilon:\n",
        "    break\n",
        "  else:\n",
        "    current_average_loss = avg_loss\n",
        "\n",
        "# plotting loss vs iteration step\n",
        "plt.scatter(iteration_num_list, avg_loss_list)\n",
        "plt.xlabel('Iteration')\n",
        "plt.ylabel('Loss')\n",
        "\n",
        "# calculating accuracy\n",
        "print(accuracy_2(x_test, y_test))"
      ],
      "metadata": {
        "id": "KH-VSm_7O1Cc"
      },
      "execution_count": null,
      "outputs": []
    },
    {
      "cell_type": "markdown",
      "source": [
        "## **Neural network using Gradient tape**"
      ],
      "metadata": {
        "id": "sN8pT9nGnbwj"
      }
    },
    {
      "cell_type": "code",
      "source": [
        "import tensorflow as tf\n",
        "\n",
        "# Define the model\n",
        "x_train = x\n",
        "y_train = y_true\n",
        "y_train = tf.convert_to_tensor(y_train.astype(np.float32).reshape(-1, 1))\n",
        "n = x_train.shape[1]\n",
        "inputs = tf.keras.Input(shape=(n,))\n",
        "l1 = tf.keras.layers.Dense(8, activation = tf.nn.sigmoid)(inputs)\n",
        "l2 = tf.keras.layers.Dense(4, activation = tf.nn.sigmoid)(l1)\n",
        "output = tf.keras.layers.Dense(1, activation = tf.nn.sigmoid)(l2)\n",
        "\n",
        "model = tf.keras.Model(inputs, output)\n",
        "\n",
        "# Choose an optimizer\n",
        "optimizer = tf.keras.optimizers.Adam(learning_rate=0.1)\n",
        "\n",
        "# Define the number of epochs\n",
        "epochs = 20\n",
        "\n",
        "# Training loop\n",
        "avg_loss_list = []\n",
        "iteration_num_list = []\n",
        "for epoch in range(epochs):\n",
        "    with tf.GradientTape() as tape:\n",
        "        # Forward pass\n",
        "        y_pred = model(x_train)\n",
        "        # Compute the loss\n",
        "        loss = tf.reduce_mean(tf.square(y_pred - y_train))\n",
        "        avg_loss_list.append(loss)\n",
        "        iteration_num_list.append(epoch)\n",
        "    # Compute gradients with respect to model weights\n",
        "    grads = tape.gradient(loss, model.trainable_variables)\n",
        "\n",
        "    # Update the weights using the gradients and an optimizer\n",
        "    optimizer.apply_gradients(zip(grads, model.trainable_variables))\n",
        "\n",
        "\n",
        "# plotting loss vs iteration step\n",
        "plt.scatter(iteration_num_list, avg_loss_list)\n",
        "plt.xlabel('Iteration')\n",
        "plt.ylabel('Loss')\n",
        "\n",
        "# acurcay calculation\n",
        "predictions = model.predict(x_test)\n",
        "y_predict = np.array([make_binary(pred) for pred in predictions])\n",
        "accuracy = accuracy_tf(y_predict, y_test)\n",
        "print(f'accuracy using gradient tape: {accuracy}')"
      ],
      "metadata": {
        "id": "63py7JbwnbD-"
      },
      "execution_count": null,
      "outputs": []
    },
    {
      "cell_type": "markdown",
      "source": [
        "## **Results**\n",
        "Loss vs epoch for manual Neural network:\n",
        "\n",
        "\n",
        "![Untitled.png](data:image/png;base64,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)\n",
        "\n",
        "\n",
        "Loss vs epoch using Gradient tape Neural network:\n",
        "\n",
        "\n",
        "![Untitled-1.png](data:image/png;base64,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)\n",
        "\n",
        "\n",
        "**Accuracy using Manual NN: ~0.97**\n",
        "\n",
        "**Accuracy using Gradient tape NN: ~0.96**"
      ],
      "metadata": {
        "id": "b_6nQGOWv6_n"
      }
    }
  ]
}